{
 "cells": [
  {
   "cell_type": "code",
   "execution_count": 16,
   "metadata": {},
   "outputs": [],
   "source": [
    "import numpy as np\n",
    "import matplotlib.pyplot as plt\n",
    "import scipy\n",
    "import pandas as pd\n",
    "from PIL import Image\n",
    "from sklearn.model_selection import train_test_split\n",
    "import cv2\n",
    "import os"
   ]
  },
  {
   "cell_type": "code",
   "execution_count": 74,
   "metadata": {},
   "outputs": [],
   "source": [
    "def load_images():\n",
    "    path_train_b = \"data/train/benign\"\n",
    "    path_train_m =\"data/train/malignant\"\n",
    "    path_test_b = \"data/test/benign\"\n",
    "    path_test_m = \"data/test/malignant\"\n",
    "    paths = [path_train_b, path_train_m , path_test_b, path_test_m]\n",
    "    \n",
    "    x_train_b = []\n",
    "    x_train_m = []\n",
    "    x_test_b = []\n",
    "    x_test_m = []\n",
    "    x = [x_train_b, x_train_m, x_test_b, x_test_m]\n",
    "    \n",
    "    for i in range(len(paths)):\n",
    "        for filename in os.listdir(paths[i]):\n",
    "            img = cv2.imread(os.path.join(paths[i],filename))\n",
    "            if img is not None:\n",
    "                x[i].append(img)\n",
    "    \n",
    "    [x_train_b,x_train_m,x_test_b,x_test_m] = x\n",
    "    return x_train_b,x_train_m,x_test_b,x_test_m\n",
    "            \n"
   ]
  },
  {
   "cell_type": "code",
   "execution_count": 75,
   "metadata": {},
   "outputs": [],
   "source": [
    "x_train_b,x_train_m,x_test_b,x_test_m = load_images()\n",
    "x_train_b = np.array(x_train_b)\n",
    "x_train_m = np.array(x_train_m)\n",
    "x_test_b = np.array(x_test_b)\n",
    "x_test_m = np.array(x_test_m)"
   ]
  },
  {
   "cell_type": "code",
   "execution_count": 76,
   "metadata": {},
   "outputs": [],
   "source": [
    "#labels\n",
    "y_train_b = np.zeros((x_train_b.shape[0],1), dtype = int)\n",
    "y_train_m = np.ones((x_train_m.shape[0],1), dtype= int)\n",
    "y_test_b = np.zeros((x_test_b.shape[0],1), dtype = int)\n",
    "y_test_m = np.ones((x_test_m.shape[0],1), dtype = int)\n",
    "\n",
    "#merging\n",
    "x_train = np.concatenate((x_train_b,x_train_m), axis = 0)\n",
    "y_train = np.concatenate((y_train_b,y_train_m), axis = 0)\n",
    "x_test = np.concatenate((x_test_b,x_test_m), axis = 0)\n",
    "y_test = np.concatenate((y_test_b,y_test_m), axis = 0)\n",
    "\n",
    "X = np.concatenate((x_train,x_test), axis =0)\n",
    "Y = np.concatenate((y_train, y_test), axis = 0)\n"
   ]
  },
  {
   "cell_type": "code",
   "execution_count": 77,
   "metadata": {},
   "outputs": [],
   "source": [
    "\n",
    "X_train, X_test, Y_train, Y_test = train_test_split(X,Y, test_size = 0.2, shuffle = True, random_state = 42)\n",
    "\n",
    "\n",
    "\n",
    "#shuffle\n",
    "# r1 = np.arange(x_train.shape[0])\n",
    "# r2 = np.arange(x_test.shape[0])\n",
    "# np.random.shuffle(r1)\n",
    "# np.random.shuffle(r2)\n",
    "# x_train = x_train[r1]\n",
    "# y_train= y_train[r1]\n",
    "# x_test = x_test[r2]\n",
    "# y_test = y_test[r2]"
   ]
  },
  {
   "cell_type": "code",
   "execution_count": 78,
   "metadata": {},
   "outputs": [
    {
     "name": "stdout",
     "output_type": "stream",
     "text": [
      "(150528, 2637)\n",
      "(1, 2637)\n"
     ]
    }
   ],
   "source": [
    "#reshaping\n",
    "X_train = X_train.reshape(X_train.shape[0], -1).T\n",
    "X_test = X_test.reshape(X_test.shape[0], -1).T\n",
    "Y_train = Y_train.T\n",
    "Y_test = Y_test.T\n",
    "\n",
    "print(X_train.shape)\n",
    "print(Y_train.shape)"
   ]
  },
  {
   "cell_type": "code",
   "execution_count": 79,
   "metadata": {},
   "outputs": [],
   "source": [
    "#normalize\n",
    "X_train = X_train/255\n",
    "X_test = X_test/255"
   ]
  },
  {
   "cell_type": "code",
   "execution_count": 80,
   "metadata": {},
   "outputs": [],
   "source": [
    "def sigmoid(z):\n",
    "    return 1/(1+ np.exp(-z))\n"
   ]
  },
  {
   "cell_type": "code",
   "execution_count": 81,
   "metadata": {},
   "outputs": [],
   "source": [
    "def initialize(size):\n",
    "    w = np.zeros(shape=(size,1))\n",
    "    b = 0\n",
    "    return w, b"
   ]
  },
  {
   "cell_type": "code",
   "execution_count": 82,
   "metadata": {},
   "outputs": [],
   "source": [
    "def propagation(x,y,w,b):\n",
    "    \n",
    "    n = x.shape[1]\n",
    "    \n",
    "    #forward prop\n",
    "    a = sigmoid(w.T @ x + b)\n",
    "    L = np.square(np.subtract(a,y)).mean()\n",
    "#     L = np.squeeze(L)\n",
    "    \n",
    "    #backward\n",
    "    dw = 1/n * x @ (a-y).T\n",
    "    db = 1/n * np.sum(a-y)\n",
    "    \n",
    "    return L, dw, db\n",
    "    "
   ]
  },
  {
   "cell_type": "code",
   "execution_count": 83,
   "metadata": {},
   "outputs": [],
   "source": [
    "def learning(x,y,w,b, iterations, learning_rate):\n",
    "    \n",
    "    Ls = []\n",
    "    \n",
    "    for i in range(iterations):\n",
    "        L, dw, db = propagation(x,y,w,b)\n",
    "        w = w- learning_rate * dw\n",
    "        b = b - learning_rate * db\n",
    "        \n",
    "        if i % 100 == 0:\n",
    "            Ls.append(L)\n",
    "            print(f'Loss after iteration {i}: {L}')\n",
    "    \n",
    "    return w,b,dw,db,Ls\n",
    "        "
   ]
  },
  {
   "cell_type": "code",
   "execution_count": 84,
   "metadata": {},
   "outputs": [],
   "source": [
    "def predict(x,y,w,b):\n",
    "    y_hat = np.zeros((1,x.shape[1]))\n",
    "    w  = w.reshape(x.shape[0],1)\n",
    "    a = sigmoid(w.T @ x + b)\n",
    "    \n",
    "    for i in range(a.shape[1]):\n",
    "        if a[0,i] >0.5:\n",
    "            y_hat[0,i] = 1\n",
    "        else:\n",
    "            y_hat[0,i] = 0\n",
    "    \n",
    "    print(\"Accuracy: \" + str(100*np.sum((y_hat==y)/x.shape[1]))+ \"%\")\n",
    "    \n",
    "    return y_hat"
   ]
  },
  {
   "cell_type": "code",
   "execution_count": 85,
   "metadata": {},
   "outputs": [],
   "source": [
    "def model(xtrain, ytrain, xtest, ytest, iterations, learning_rate):\n",
    "    w, b = initialize(xtrain.shape[0])\n",
    "    w,b,dw,db,Ls = learning(xtrain, ytrain, w, b, iterations, learning_rate)\n",
    "    y_hat_train = predict(xtrain,ytrain, w, b)\n",
    "    y_hat_test = predict(xtest,ytest,w,b)\n",
    "\n",
    "    return Ls\n",
    "    "
   ]
  },
  {
   "cell_type": "code",
   "execution_count": null,
   "metadata": {},
   "outputs": [],
   "source": [
    "iterations = 100\n",
    "learning_rate = 0.005\n",
    "L = model(X_train,Y_train, X_test, Y_test,iterations, learning_rate)\n",
    "plt.plot(L)\n",
    "plt.ylabel('loss')\n",
    "plt.xlabel('iterations (per tens)')\n",
    "plt.title(\"Learning rate =\" + str(learning_rate))\n",
    "plt.show()"
   ]
  },
  {
   "cell_type": "code",
   "execution_count": null,
   "metadata": {},
   "outputs": [],
   "source": []
  },
  {
   "cell_type": "code",
   "execution_count": null,
   "metadata": {},
   "outputs": [],
   "source": []
  }
 ],
 "metadata": {
  "kernelspec": {
   "display_name": "Python 3",
   "language": "python",
   "name": "python3"
  },
  "language_info": {
   "codemirror_mode": {
    "name": "ipython",
    "version": 3
   },
   "file_extension": ".py",
   "mimetype": "text/x-python",
   "name": "python",
   "nbconvert_exporter": "python",
   "pygments_lexer": "ipython3",
   "version": "3.6.5"
  }
 },
 "nbformat": 4,
 "nbformat_minor": 4
}
