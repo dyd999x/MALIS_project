{
 "cells": [
  {
   "cell_type": "code",
   "execution_count": null,
   "metadata": {},
   "outputs": [],
   "source": [
    "import numpy as np\n",
    "import matplotlib.pyplot as plt\n",
    "import scipy\n",
    "import pandas as pd\n",
    "from PIL import Image\n",
    "from sklearn.model_selection import train_test_split\n",
    "import cv2\n",
    "import os\n",
    "from sklearn.linear_model import LogisticRegression\n",
    "from sklearn.neighbors import KNeighborsClassifier\n",
    "from sklearn.tree import DecisionTreeClassifier\n",
    "from sklearn.ensemble import RandomForestClassifier\n",
    "from sklearn import svm\n",
    "from sklearn.neighbors import KNeighborsClassifier\n",
    "from sklearn.ensemble import AdaBoostClassifier\n",
    "from sklearn.neural_network import MLPClassifier\n"
   ]
  },
  {
   "cell_type": "code",
   "execution_count": null,
   "metadata": {},
   "outputs": [],
   "source": [
    "def load_images():\n",
    "    path_train_b = \"data/train/benign\"\n",
    "    path_train_m = \"data/train/malignant\"\n",
    "    path_test_b = \"data/test/benign\"\n",
    "    path_test_m = \"data/test/malignant\"\n",
    "    paths = [path_train_b, path_train_m, path_test_b, path_test_m]\n",
    "\n",
    "    x_train_b = []\n",
    "    x_train_m = []\n",
    "    x_test_b = []\n",
    "    x_test_m = []\n",
    "    x = [x_train_b, x_train_m, x_test_b, x_test_m]\n",
    "\n",
    "    alpha = 2  # Contrast control (1.0-3.0)\n",
    "    beta = 0  # Brightness control (0-100)\n",
    "    for i in range(len(paths)):\n",
    "        for filename in os.listdir(paths[i]):\n",
    "            img = cv2.imread(os.path.join(paths[i], filename))\n",
    "            if img is not None:\n",
    "                #img2 = cv2.convertScaleAbs(img, alpha=alpha, beta=beta)\n",
    "                x[i].append(img)\n",
    "\n",
    "    [x_train_b, x_train_m, x_test_b, x_test_m] = x\n",
    "    return x_train_b, x_train_m, x_test_b, x_test_m\n",
    "\n",
    "\n",
    "x_train_b, x_train_m, x_test_b, x_test_m = load_images()\n",
    "x_train_b = np.array(x_train_b)\n",
    "x_train_m = np.array(x_train_m)\n",
    "x_test_b = np.array(x_test_b)\n",
    "x_test_m = np.array(x_test_m)\n",
    "\n",
    "# labels\n",
    "y_train_b = np.zeros((x_train_b.shape[0], 1), dtype=int)\n",
    "print(y_train_b.shape)\n",
    "y_train_m = np.ones((x_train_m.shape[0], 1), dtype=int)\n",
    "print(y_train_m.shape)\n",
    "y_test_b = np.zeros((x_test_b.shape[0], 1), dtype=int)\n",
    "print(y_test_b.shape)\n",
    "y_test_m = np.ones((x_test_m.shape[0], 1), dtype=int)\n",
    "print(y_test_m.shape)\n",
    "\n",
    "# merging\n",
    "x_train = np.concatenate((x_train_b, x_train_m), axis=0)\n",
    "y_train = np.concatenate((y_train_b, y_train_m), axis=0)\n",
    "x_test = np.concatenate((x_test_b, x_test_m), axis=0)\n",
    "y_test = np.concatenate((y_test_b, y_test_m), axis=0)\n",
    "\n",
    "X = np.concatenate((x_train, x_test), axis=0)\n",
    "Y = np.concatenate((y_train, y_test), axis=0)\n",
    "\n",
    "X_train, X_test, Y_train, Y_test = train_test_split(X, Y, test_size=0.2, shuffle=True, random_state=99)\n",
    "\n",
    "# reshaping\n",
    "X_train = X_train.reshape(X_train.shape[0], -1)\n",
    "X_test = X_test.reshape(X_test.shape[0], -1)\n",
    "Y_train = np.ravel(Y_train)\n",
    "Y_test = np.ravel(Y_test)\n",
    "# Y_train = Y_train.T\n",
    "# Y_test = Y_test.T\n",
    "\n",
    "print(X_train.shape)\n",
    "print(Y_train.shape)\n",
    "\n",
    "# normalize\n",
    "X_train = X_train / 255\n",
    "X_test = X_test / 255\n",
    "\n",
    "\n",
    "\n"
   ]
  },
  {
   "cell_type": "code",
   "execution_count": null,
   "metadata": {},
   "outputs": [],
   "source": [
    "plt.imshow(x_train_b[5])\n",
    "plt.show()"
   ]
  },
  {
   "cell_type": "code",
   "execution_count": null,
   "metadata": {},
   "outputs": [],
   "source": []
  },
  {
   "cell_type": "raw",
   "metadata": {},
   "source": [
    "logistic_classifier = LogisticRegression(random_state=10, multi_class='multinomial', solver = 'newton-cg')\n",
    "logistic_classifier.fit(X_train, Y_train)\n",
    "logistic_score_train = logistic_classifier.score(X_train, Y_train)\n",
    "logistic_score_test = logistic_classifier.score(X_test,Y_test)\n",
    "print(\"Training accuracy logistic reg: \"+ str(logistic_score_train *100) + \"%\")\n",
    "print(\"Testing accuracy logistic reg: \"+ str(logistic_score_test *100) + \"%\")"
   ]
  },
  {
   "cell_type": "code",
   "execution_count": null,
   "metadata": {},
   "outputs": [],
   "source": [
    "svm_classifier = svm.SVC(cache_size=500)\n",
    "svm_classifier.fit(X_train, Y_train)\n",
    "svm_score_train = svm_classifier.score(X_train, Y_train)\n",
    "svm_score_test = svm_classifier.score(X_test,Y_test)\n",
    "print(\"Training accuracy SVC: \"+ str(svm_score_train *100) + \"%\")\n",
    "print(\"Testing accuracy SVC: \"+ str(svm_score_test *100) + \"%\")\n",
    "\n"
   ]
  },
  {
   "cell_type": "code",
   "execution_count": null,
   "metadata": {},
   "outputs": [],
   "source": [
    "randomForrest_classifier = RandomForestClassifier(n_estimators=100, bootstrap = True, max_features = 'sqrt')\n",
    "randomForrest_classifier.fit(X_train, Y_train)\n",
    "randomForrest_score_train = randomForrest_classifier.score(X_train, Y_train)\n",
    "randomForrest_score_test = randomForrest_classifier.score(X_test,Y_test)\n",
    "print(\"Training accuracy random forest: \"+ str(randomForrest_score_train *100) + \"%\")\n",
    "print(\"Testing accuracy random forest: \"+ str(randomForrest_score_test *100) + \"%\")\n",
    "\n"
   ]
  },
  {
   "cell_type": "code",
   "execution_count": null,
   "metadata": {},
   "outputs": [],
   "source": [
    "knn = KNeighborsClassifier(n_neighbors=5)\n",
    "knn.fit(X_train, Y_train)\n",
    "knn_score_train = knn.score(X_train, Y_train)\n",
    "knn_score_test = knn.score(X_test,Y_test)\n",
    "print(\"Training accuracy knn: \"+ str(knn_score_train *100) + \"%\")\n",
    "print(\"Testing accuracy knn: \"+ str(knn_score_test *100) + \"%\")"
   ]
  },
  {
   "cell_type": "code",
   "execution_count": null,
   "metadata": {},
   "outputs": [],
   "source": [
    "ada = AdaBoostClassifier(n_estimators=200, random_state=0)\n",
    "ada.fit(X_train, Y_train)\n",
    "ada_score_train = ada.score(X_train, Y_train)\n",
    "ada_score_test = ada.score(X_test,Y_test)\n",
    "print(\"Training accuracy adaBoost: \"+ str(ada_score_train *100) + \"%\")\n",
    "print(\"Testing accuracy adaBoost: \"+ str(ada_score_test *100) + \"%\")"
   ]
  },
  {
   "cell_type": "code",
   "execution_count": null,
   "metadata": {},
   "outputs": [],
   "source": [
    "NN = MLPClassifier(hidden_layer_sizes = (15,15), activation='relu')\n",
    "NN.fit(X_train, Y_train)\n",
    "NN_score_train = NN.score(X_train, Y_train)\n",
    "NN_score_test = NN.score(X_test, Y_test)\n",
    "print(\"Training accuracy NN: \"+ str(NN_score_train *100) + \"%\")\n",
    "print(\"Testing accuracy NN: \"+ str(NN_score_test *100) + \"%\")"
   ]
  },
  {
   "cell_type": "code",
   "execution_count": null,
   "metadata": {},
   "outputs": [],
   "source": []
  },
  {
   "cell_type": "code",
   "execution_count": null,
   "metadata": {},
   "outputs": [],
   "source": []
  },
  {
   "cell_type": "code",
   "execution_count": null,
   "metadata": {},
   "outputs": [],
   "source": []
  },
  {
   "cell_type": "code",
   "execution_count": null,
   "metadata": {},
   "outputs": [],
   "source": []
  },
  {
   "cell_type": "code",
   "execution_count": null,
   "metadata": {},
   "outputs": [],
   "source": []
  },
  {
   "cell_type": "code",
   "execution_count": null,
   "metadata": {},
   "outputs": [],
   "source": []
  },
  {
   "cell_type": "code",
   "execution_count": null,
   "metadata": {},
   "outputs": [],
   "source": []
  },
  {
   "cell_type": "code",
   "execution_count": null,
   "metadata": {},
   "outputs": [],
   "source": []
  },
  {
   "cell_type": "code",
   "execution_count": null,
   "metadata": {},
   "outputs": [],
   "source": []
  }
 ],
 "metadata": {
  "kernelspec": {
   "display_name": "Python 3",
   "language": "python",
   "name": "python3"
  },
  "language_info": {
   "codemirror_mode": {
    "name": "ipython",
    "version": 3
   },
   "file_extension": ".py",
   "mimetype": "text/x-python",
   "name": "python",
   "nbconvert_exporter": "python",
   "pygments_lexer": "ipython3",
   "version": "3.6.5"
  }
 },
 "nbformat": 4,
 "nbformat_minor": 4
}
